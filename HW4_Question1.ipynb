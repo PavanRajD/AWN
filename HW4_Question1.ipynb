{
  "cells": [
    {
      "cell_type": "markdown",
      "metadata": {
        "id": "y3uqvt0psmsE"
      },
      "source": [
        "# Section 1: TCAV\n",
        "Please refer this source https://github.com/tensorflow/tcav on how you can import and run TCAV. The repository consists of an example (https://github.com/tensorflow/tcav/blob/master/Run_TCAV_on_colab.ipynb) of TCAV scores using GoogLeNet model trained on ImageNet dataset. The examples demonstrated the results based the concepts [\"dotted\",\"striped\",\"zigzagged\"] with target being 'zebra'. \n",
        "\n",
        "You are allowed to change the code template in accordance with the example provided. "
      ]
    },
    {
      "cell_type": "code",
      "execution_count": null,
      "metadata": {
        "id": "Ox-7mbUPnUef",
        "outputId": "d8e4e5bd-7f1a-41cd-a9b6-87a4c802fc50",
        "colab": {
          "base_uri": "https://localhost:8080/"
        }
      },
      "outputs": [
        {
          "output_type": "stream",
          "name": "stdout",
          "text": [
            "Looking in indexes: https://pypi.org/simple, https://us-python.pkg.dev/colab-wheels/public/simple/\n",
            "Collecting tcav\n",
            "  Downloading tcav-0.2.2-py3-none-any.whl (54 kB)\n",
            "\u001b[2K     \u001b[90m━━━━━━━━━━━━━━━━━━━━━━━━━━━━━━━━━━━━━━━━\u001b[0m \u001b[32m54.4/54.4 kB\u001b[0m \u001b[31m2.7 MB/s\u001b[0m eta \u001b[36m0:00:00\u001b[0m\n",
            "\u001b[?25hRequirement already satisfied: matplotlib>=2.2.4 in /usr/local/lib/python3.10/dist-packages (from tcav) (3.7.1)\n",
            "Requirement already satisfied: Pillow>=6.0.0 in /usr/local/lib/python3.10/dist-packages (from tcav) (8.4.0)\n",
            "Requirement already satisfied: scikit-learn>=0.20.3 in /usr/local/lib/python3.10/dist-packages (from tcav) (1.2.2)\n",
            "Requirement already satisfied: scipy>=1.2.1 in /usr/local/lib/python3.10/dist-packages (from tcav) (1.10.1)\n",
            "Requirement already satisfied: protobuf>=3.10.0 in /usr/local/lib/python3.10/dist-packages (from tcav) (3.20.3)\n",
            "Requirement already satisfied: cycler>=0.10 in /usr/local/lib/python3.10/dist-packages (from matplotlib>=2.2.4->tcav) (0.11.0)\n",
            "Requirement already satisfied: kiwisolver>=1.0.1 in /usr/local/lib/python3.10/dist-packages (from matplotlib>=2.2.4->tcav) (1.4.4)\n",
            "Requirement already satisfied: python-dateutil>=2.7 in /usr/local/lib/python3.10/dist-packages (from matplotlib>=2.2.4->tcav) (2.8.2)\n",
            "Requirement already satisfied: fonttools>=4.22.0 in /usr/local/lib/python3.10/dist-packages (from matplotlib>=2.2.4->tcav) (4.39.3)\n",
            "Requirement already satisfied: packaging>=20.0 in /usr/local/lib/python3.10/dist-packages (from matplotlib>=2.2.4->tcav) (23.1)\n",
            "Requirement already satisfied: numpy>=1.20 in /usr/local/lib/python3.10/dist-packages (from matplotlib>=2.2.4->tcav) (1.22.4)\n",
            "Requirement already satisfied: pyparsing>=2.3.1 in /usr/local/lib/python3.10/dist-packages (from matplotlib>=2.2.4->tcav) (3.0.9)\n",
            "Requirement already satisfied: contourpy>=1.0.1 in /usr/local/lib/python3.10/dist-packages (from matplotlib>=2.2.4->tcav) (1.0.7)\n",
            "Requirement already satisfied: joblib>=1.1.1 in /usr/local/lib/python3.10/dist-packages (from scikit-learn>=0.20.3->tcav) (1.2.0)\n",
            "Requirement already satisfied: threadpoolctl>=2.0.0 in /usr/local/lib/python3.10/dist-packages (from scikit-learn>=0.20.3->tcav) (3.1.0)\n",
            "Requirement already satisfied: six>=1.5 in /usr/local/lib/python3.10/dist-packages (from python-dateutil>=2.7->matplotlib>=2.2.4->tcav) (1.16.0)\n",
            "Installing collected packages: tcav\n",
            "Successfully installed tcav-0.2.2\n"
          ]
        }
      ],
      "source": [
        "# !pip install tcav\n",
        "# !pip install tensorflow==1.15\n",
        "# !pip install keras==2.2.4"
      ]
    },
    {
      "cell_type": "code",
      "source": [
        "from google.colab import drive\n",
        "drive.mount('/content/drive')"
      ],
      "metadata": {
        "id": "XoTrenbt73z8",
        "outputId": "0ca5db70-031f-43bd-c934-f33334452966",
        "colab": {
          "base_uri": "https://localhost:8080/"
        }
      },
      "execution_count": 1,
      "outputs": [
        {
          "output_type": "stream",
          "name": "stdout",
          "text": [
            "Mounted at /content/drive\n"
          ]
        }
      ]
    },
    {
      "cell_type": "code",
      "execution_count": 47,
      "metadata": {
        "id": "z9w14pYtnq6r"
      },
      "outputs": [],
      "source": [
        "import numpy as np\n",
        "\n",
        "import matplotlib.pyplot as plt\n",
        "import seaborn as sns\n",
        "\n",
        "import tensorflow as tf\n",
        "\n",
        "from tensorflow import keras\n",
        "from keras.datasets import cifar100, cifar10\n",
        "from keras.preprocessing.image import ImageDataGenerator\n",
        "from keras.models import Sequential\n",
        "from keras.layers import Dense, Dropout, Activation, Flatten\n",
        "from keras.layers import Conv2D, MaxPooling2D\n",
        "from tensorflow.keras.applications.resnet50 import ResNet50\n",
        "from keras.layers import InputLayer, Reshape, Flatten\n",
        "import sys\n",
        "import os\n",
        "sys.path.insert(0, os.path.abspath('../..'))\n",
        "\n",
        "from cav.tcav import *\n",
        "\n",
        "np.random.seed(1996)"
      ]
    },
    {
      "cell_type": "code",
      "execution_count": 54,
      "metadata": {
        "id": "1UK8tP31Ok5B"
      },
      "outputs": [],
      "source": [
        "import numpy as np\n",
        "import tensorflow as tf\n",
        "from keras import backend as k\n",
        "from keras.models import Sequential\n",
        "from keras.layers import InputLayer, Reshape, Flatten\n",
        "from sklearn.linear_model import SGDClassifier\n",
        "\n",
        "def extract_airplane_set():\n",
        "    #TODO: Extract the indexes of all the images with 'airplane' as the output label from both train and test.\n",
        "    #TODO: Return the preprocessed sets of both train and test sets\n",
        "    (x_train, y_train), (x_test, y_test) = cifar10.load_data()\n",
        "\n",
        "    interested_class_train = y_train == [0]\n",
        "    interested_class_indx_train = [i for i, x in enumerate(interested_class_train) if x]\n",
        "    x_train_airplane = x_train[interested_class_indx_train]\n",
        "    print(len(x_train_airplane))\n",
        "    y_train_airplane = y_train[interested_class_indx_train]\n",
        "    print(len(y_train_airplane))\n",
        "    interested_class_test = y_test == [0]\n",
        "    interested_class_indx_test = [i for i, x in enumerate(interested_class_test) if x]\n",
        "    x_test_airplane = x_test[interested_class_indx_test]\n",
        "    y_test_airplane = y_test[interested_class_indx_test]\n",
        "\n",
        "    return x_train_airplane, y_train_airplane, x_test_airplane, y_test_airplane\n",
        "\n",
        "def extract_cloud_set():\n",
        "    (x_train_concept, y_train_concept), (x_test_concept, y_test_concept) = cifar100.load_data()\n",
        "    #TODO: Extract the indexes of all the images with 'cloud' as the output label for ONLY train set.\n",
        "    #TODO: Return ONLY train set (No preprocess needed)\n",
        "    concept = y_train_concept == [23]\n",
        "    indices = concept\n",
        "    indx_to_use = [i for i, x in enumerate(indices) if x]\n",
        "    x_train_concept_cloud = x_train_concept[indx_to_use]\n",
        "    y_train_concept_cloud = y_train_concept[indx_to_use]\n",
        " \n",
        "    return x_train_concept_cloud, y_train_concept_cloud\n",
        "\n",
        "def load_and_transfer_learn():\n",
        "    # Load the ResNet50 model without the top layers\n",
        "    tl_model = Sequential()\n",
        "\n",
        "    resnet_model = ResNet50(\n",
        "        include_top=False, \n",
        "        weights='imagenet', \n",
        "        input_shape=(32, 32, 3),\n",
        "        pooling=\"avg\"\n",
        "      )\n",
        "\n",
        "    # Freeze the pre-trained layers\n",
        "    for layer in resnet_model.layers:\n",
        "      layer.trainable = False\n",
        "    \n",
        "    tl_model.add(resnet_model)\n",
        "    tl_model.add(Flatten())\n",
        "    tl_model.add(Dense(512))\n",
        "    tl_model.add(Activation('relu'))\n",
        "    tl_model.add(Dropout(0.5))\n",
        "    tl_model.add(Dense(1))\n",
        "    tl_model.add(Activation('sigmoid'))\n",
        "    return tl_model\n",
        "\n",
        "def tcav_scores(model, x_train, y_train, x_train_concept):\n",
        "    bottleneck = 3\n",
        "    tf.compat.v1.disable_eager_execution()\n",
        "    tcav_obj = TCAV()\n",
        "    tcav_obj.set_model(model)\n",
        "    tcav_obj.split_model(bottleneck = bottleneck, conv_layer = True)\n",
        "    tcav_obj.train_cav(x_train_concept)\n",
        "    tcav_obj.calculate_sensitivity(x_train, y_train)\n",
        "    tcav_obj.print_sensitivity()\n",
        "\n"
      ]
    },
    {
      "cell_type": "code",
      "execution_count": 51,
      "metadata": {
        "id": "Yz8NS81ko1jb",
        "colab": {
          "base_uri": "https://localhost:8080/"
        },
        "outputId": "31fefa04-f668-4a47-9bc1-e6310adc8292"
      },
      "outputs": [
        {
          "output_type": "stream",
          "name": "stdout",
          "text": [
            "5000\n",
            "5000\n"
          ]
        }
      ],
      "source": [
        "x_train, y_train, x_test, y_test = extract_airplane_set()"
      ]
    },
    {
      "cell_type": "code",
      "execution_count": 52,
      "metadata": {
        "id": "6Tjm6tB8o818"
      },
      "outputs": [],
      "source": [
        "x_train_concept, y_train_concept = extract_cloud_set()"
      ]
    },
    {
      "cell_type": "code",
      "source": [
        "f, axarr = plt.subplots(1,2)\n",
        "axarr[0].imshow(x_train_concept[0])\n",
        "# axarr[1].imshow(x_train[7777])"
      ],
      "metadata": {
        "id": "j7G19VTpimLX",
        "outputId": "0be1ee0f-da10-4f39-9f1f-2f0539b4beb0",
        "colab": {
          "base_uri": "https://localhost:8080/",
          "height": 453
        }
      },
      "execution_count": 34,
      "outputs": [
        {
          "output_type": "execute_result",
          "data": {
            "text/plain": [
              "<matplotlib.image.AxesImage at 0x7f5df5708970>"
            ]
          },
          "metadata": {},
          "execution_count": 34
        },
        {
          "output_type": "display_data",
          "data": {
            "text/plain": [
              "<Figure size 640x480 with 2 Axes>"
            ],
            "image/png": "[encoded data removed]"
          },
          "metadata": {}
        }
      ]
    },
    {
      "cell_type": "code",
      "execution_count": 55,
      "metadata": {
        "id": "H1qThhS5qhAT"
      },
      "outputs": [],
      "source": [
        "model = load_and_transfer_learn()\n",
        "\n",
        "##TODO: Define your choice of batch_size, number of epochs, loss function (e.g. categorical crossentropy), and optimizer (SGD\\Adam)\n",
        "batch_size = 32\n",
        "epochs = 5\n",
        "loss_func = \"binary_crossentropy\"    #<--- has to be in string format\n",
        "optim = \"SGD\"       #<--- has to be in string format\n",
        "\n",
        "checkpoint_path = \"/content/drive/MyDrive/training_2/cp.ckpt\"\n",
        "checkpoint_dir = os.path.dirname(checkpoint_path)\n",
        "\n",
        "# Create a callback that saves the model's weights\n",
        "cp_callback = tf.keras.callbacks.ModelCheckpoint(filepath=checkpoint_path,\n",
        "                                                 save_weights_only=True,\n",
        "                                                 verbose=1)\n",
        "model.compile(loss=loss_func, optimizer=optim, metrics=['accuracy'])"
      ]
    },
    {
      "cell_type": "code",
      "source": [
        "model.fit(x_train, y_train, batch_size=batch_size, epochs=epochs,  validation_data=(x_test, y_test),callbacks=[cp_callback], shuffle=True)"
      ],
      "metadata": {
        "id": "qmq-N99m8DW9",
        "outputId": "071ae090-7151-497c-a3ff-daf20e0f71a4",
        "colab": {
          "base_uri": "https://localhost:8080/"
        }
      },
      "execution_count": 56,
      "outputs": [
        {
          "output_type": "stream",
          "name": "stdout",
          "text": [
            "Train on 5000 samples, validate on 1000 samples\n",
            "Epoch 1/5\n",
            "4992/5000 [============================>.] - ETA: 0s - loss: 0.0048 - accuracy: 0.9990"
          ]
        },
        {
          "output_type": "stream",
          "name": "stderr",
          "text": [
            "/usr/local/lib/python3.10/dist-packages/keras/engine/training_v1.py:2335: UserWarning: `Model.state_updates` will be removed in a future version. This property should not be used in TensorFlow 2.0, as `updates` are applied automatically.\n",
            "  updates = self.state_updates\n"
          ]
        },
        {
          "output_type": "stream",
          "name": "stdout",
          "text": [
            "\n",
            "Epoch 1: saving model to /content/drive/MyDrive/training_2/cp.ckpt\n",
            "5000/5000 [==============================] - 6s 1ms/sample - loss: 0.0048 - accuracy: 0.9990 - val_loss: 5.8765e-05 - val_accuracy: 1.0000\n",
            "Epoch 2/5\n",
            "5000/5000 [==============================] - ETA: 0s - loss: 3.1382e-04 - accuracy: 1.0000\n",
            "Epoch 2: saving model to /content/drive/MyDrive/training_2/cp.ckpt\n",
            "5000/5000 [==============================] - 4s 712us/sample - loss: 3.1382e-04 - accuracy: 1.0000 - val_loss: 3.7440e-05 - val_accuracy: 1.0000\n",
            "Epoch 3/5\n",
            "4896/5000 [============================>.] - ETA: 0s - loss: 2.0234e-04 - accuracy: 1.0000\n",
            "Epoch 3: saving model to /content/drive/MyDrive/training_2/cp.ckpt\n",
            "5000/5000 [==============================] - 3s 528us/sample - loss: 1.9872e-04 - accuracy: 1.0000 - val_loss: 2.7688e-05 - val_accuracy: 1.0000\n",
            "Epoch 4/5\n",
            "4960/5000 [============================>.] - ETA: 0s - loss: 8.5493e-05 - accuracy: 1.0000\n",
            "Epoch 4: saving model to /content/drive/MyDrive/training_2/cp.ckpt\n",
            "5000/5000 [==============================] - 3s 567us/sample - loss: 8.4976e-05 - accuracy: 1.0000 - val_loss: 2.3856e-05 - val_accuracy: 1.0000\n",
            "Epoch 5/5\n",
            "5000/5000 [==============================] - ETA: 0s - loss: 1.7492e-04 - accuracy: 1.0000\n",
            "Epoch 5: saving model to /content/drive/MyDrive/training_2/cp.ckpt\n",
            "5000/5000 [==============================] - 3s 522us/sample - loss: 1.7492e-04 - accuracy: 1.0000 - val_loss: 1.9151e-05 - val_accuracy: 1.0000\n"
          ]
        },
        {
          "output_type": "execute_result",
          "data": {
            "text/plain": [
              "<keras.callbacks.History at 0x7f5d522d7fd0>"
            ]
          },
          "metadata": {},
          "execution_count": 56
        }
      ]
    },
    {
      "cell_type": "code",
      "source": [
        "model.load_weights(checkpoint_path)"
      ],
      "metadata": {
        "colab": {
          "base_uri": "https://localhost:8080/"
        },
        "id": "bUFCvxQaEZTP",
        "outputId": "b3690014-5368-4fd8-fb0e-95723b89583f"
      },
      "execution_count": 57,
      "outputs": [
        {
          "output_type": "execute_result",
          "data": {
            "text/plain": [
              "<tensorflow.python.checkpoint.checkpoint.CheckpointLoadStatus at 0x7f5d0c317af0>"
            ]
          },
          "metadata": {},
          "execution_count": 57
        }
      ]
    },
    {
      "cell_type": "code",
      "source": [
        "print(\"Evaluate on test data\")\n",
        "results = model.evaluate(x_test, y_test, batch_size=128)\n",
        "print(\"test loss, test acc:\", results)"
      ],
      "metadata": {
        "id": "E17b2xurhm-l",
        "outputId": "9f9f1db7-ab67-46e8-b58d-097153dd5f4d",
        "colab": {
          "base_uri": "https://localhost:8080/"
        }
      },
      "execution_count": 58,
      "outputs": [
        {
          "output_type": "stream",
          "name": "stdout",
          "text": [
            "Evaluate on test data\n",
            "test loss, test acc: [1.915079246100504e-05, 1.0]\n"
          ]
        }
      ]
    },
    {
      "cell_type": "code",
      "execution_count": 59,
      "metadata": {
        "id": "kHjxyODFOk5D",
        "colab": {
          "base_uri": "https://localhost:8080/"
        },
        "outputId": "c3e42976-73f7-4f95-ca90-7b79eeb83f19"
      },
      "outputs": [
        {
          "output_type": "stream",
          "name": "stderr",
          "text": [
            "/usr/local/lib/python3.10/dist-packages/keras/engine/training_v1.py:2359: UserWarning: `Model.state_updates` will be removed in a future version. This property should not be used in TensorFlow 2.0, as `updates` are applied automatically.\n",
            "  updates=self.state_updates,\n"
          ]
        },
        {
          "output_type": "stream",
          "name": "stdout",
          "text": [
            "The sensitivity of class 1 is  nan\n",
            "The sensitivity of class 0 is  1.0\n"
          ]
        },
        {
          "output_type": "stream",
          "name": "stderr",
          "text": [
            "/content/cav/tcav.py:154: RuntimeWarning: invalid value encountered in long_scalars\n",
            "  np.sum(self.sensitivity[np.where(self.y_labels == 1)[0]] > 0)\n"
          ]
        }
      ],
      "source": [
        "tcav_scores(model, x_train, y_train, x_train_concept)"
      ]
    }
  ],
  "metadata": {
    "colab": {
      "provenance": [],
      "gpuType": "T4"
    },
    "interpreter": {
      "hash": "e5f42a9c8718f24e54526b98495e71f6224db6b84c40ddfa235e1d4441757c08"
    },
    "kernelspec": {
      "display_name": "Python 3.7.6 ('base')",
      "language": "python",
      "name": "python3"
    },
    "language_info": {
      "codemirror_mode": {
        "name": "ipython",
        "version": 3
      },
      "file_extension": ".py",
      "mimetype": "text/x-python",
      "name": "python",
      "nbconvert_exporter": "python",
      "pygments_lexer": "ipython3",
      "version": "3.7.6"
    },
    "accelerator": "GPU",
    "gpuClass": "standard"
  },
  "nbformat": 4,
  "nbformat_minor": 0
}