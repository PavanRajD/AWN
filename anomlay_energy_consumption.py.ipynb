{
 "cells": [
  {
   "cell_type": "code",
   "execution_count": 82,
   "id": "f92a1f24",
   "metadata": {},
   "outputs": [
    {
     "name": "stdout",
     "output_type": "stream",
     "text": [
      "Energy efficiency of network: 102.3201 kWh per MB of data transferred\n"
     ]
    }
   ],
   "source": [
    "import pandas as pd\n",
    "import time\n",
    "# Load diabetes dataset (in CSV format)\n",
    "data = pd.read_csv(\"diabetes_wireless.csv\")\n",
    "\n",
    "output_file = []\n",
    "start_time = time.time()\n",
    "for i in range(10):\n",
    "    output_file.append(data)\n",
    "end_time = time.time()\n",
    "result = pd.concat(output_file)\n",
    "\n",
    "processing_time = end_time - start_time\n",
    "\n",
    "# Calculate data size of dataset (in KB)\n",
    "data_size = len(result) / 1024\n",
    "\n",
    "# Define data transfer rate of network (in Mbps)\n",
    "data_transfer_rate = 1\n",
    "\n",
    "#Calculate time it takes to transfer data (in ms)\n",
    "transfer_time = (data_size * 8) / data_transfer_rate * 1000\n",
    "\n",
    "# Define total energy consumption of network during data transfer operation (in Wh)\n",
    "total_energy_consumption = 10000\n",
    "\n",
    "# Convert total energy consumption from Wh to kWh\n",
    "total_energy_consumption_kWh = total_energy_consumption / 1000\n",
    "\n",
    "# Calculate energy efficiency of network (in kWh per MB of data transferred)\n",
    "energy_efficiency = total_energy_consumption_kWh / (data_size / 1024)\n",
    "\n",
    "# Print energy efficiency\n",
    "print(\"Energy efficiency of network: {:.4f} kWh per MB of data transferred\".format(energy_efficiency))"
   ]
  },
  {
   "cell_type": "code",
   "execution_count": 46,
   "id": "2788d570",
   "metadata": {},
   "outputs": [
    {
     "name": "stdout",
     "output_type": "stream",
     "text": [
      "Energy efficiency of Isolation Forest anomaly detection: 0.003647 kWh per data point\n"
     ]
    }
   ],
   "source": [
    "import time\n",
    "import psutil\n",
    "from sklearn.ensemble import IsolationForest\n",
    "from sklearn.datasets import make_classification\n",
    "\n",
    "Number_of_Sensors = 10\n",
    "Number_of_Rounds = 5\n",
    "# Generate synthetic data\n",
    "X = pd.read_csv(\"diabetes_wireless.csv\")\n",
    "\n",
    "# Instantiate Isolation Forest model\n",
    "model = IsolationForest(n_estimators=100, contamination='auto', random_state=20)\n",
    "\n",
    "# Measure energy consumption before anomaly detection\n",
    "energy_before = psutil.cpu_percent(interval=1)\n",
    "\n",
    "# Start timer\n",
    "start_time = time.time()\n",
    "\n",
    "# Fit the model and detect anomalies\n",
    "model.fit(X)\n",
    "y_pred = model.predict(X)\n",
    "\n",
    "# Measure energy consumption after anomaly detection\n",
    "energy_after = psutil.cpu_percent(interval=1)\n",
    "\n",
    "# Calculate total energy consumption in Watt-hours (Wh)\n",
    "energy_consumption = (energy_after - energy_before) * (time.time() - start_time) / 3600\n",
    "\n",
    "# Calculate energy efficiency in kWh per data point\n",
    "energy_efficiency_isolation_forest = (energy_consumption / len(X) * 1000) * Number_of_Sensors * Number_of_Rounds\n",
    "\n",
    "# Print energy efficiency\n",
    "print(\"Energy efficiency of Isolation Forest anomaly detection: {:.6f} kWh per data point\".format(energy_efficiency_isolation_forest))\n"
   ]
  },
  {
   "cell_type": "code",
   "execution_count": 81,
   "id": "3f5b1c10",
   "metadata": {},
   "outputs": [
    {
     "name": "stdout",
     "output_type": "stream",
     "text": [
      "10248\n",
      "102480\n",
      "8198416\n",
      "Energy efficiency of network: 102.3201 kWh per MB of data transferred\n"
     ]
    }
   ],
   "source": [
    "import pandas as pd\n",
    "import time\n",
    "import sys\n",
    "# Load diabetes dataset (in CSV format)\n",
    "data = pd.read_csv(\"diabetes_wireless.csv\")\n",
    "print(len(data))\n",
    "output_file = []\n",
    "start_time = time.time()\n",
    "for i in range(10):\n",
    "    output_file.append(data)\n",
    "end_time = time.time()\n",
    "result = pd.concat(output_file)\n",
    "print(len(result))\n",
    "print(sys.getsizeof(result))\n",
    "processing_time = end_time - start_time\n",
    "\n",
    "# Calculate data size of dataset (in KB)\n",
    "data_size = len(result) / 1024\n",
    "\n",
    "# Define data transfer rate of network (in Mbps)\n",
    "data_transfer_rate = 1\n",
    "\n",
    "#Calculate time it takes to transfer data (in ms)\n",
    "transfer_time = (data_size * 8) / data_transfer_rate * 1000\n",
    "\n",
    "# Define total energy consumption of network during data transfer operation (in Wh)\n",
    "total_energy_consumption = 10000\n",
    "\n",
    "# Convert total energy consumption from Wh to kWh\n",
    "total_energy_consumption_kWh = total_energy_consumption / 1000\n",
    "\n",
    "# Calculate energy efficiency of network (in kWh per MB of data transferred)\n",
    "energy_efficiency = total_energy_consumption_kWh / (data_size / 1024)\n",
    "\n",
    "# Print energy efficiency\n",
    "print(\"Energy efficiency of network: {:.4f} kWh per MB of data transferred\".format(energy_efficiency))"
   ]
  },
  {
   "cell_type": "code",
   "execution_count": 85,
   "id": "cc457a5b",
   "metadata": {},
   "outputs": [
    {
     "name": "stdout",
     "output_type": "stream",
     "text": [
      "Energy efficiency: 439453124999.99994 bytes/kWh\n",
      "Energy efficiency: 4394531250000.0005 bytes/kWh\n"
     ]
    }
   ],
   "source": [
    "# Define the parameters\n",
    "data_size = 307080   # in bytes\n",
    "transmission_power = 10/1000000  # in milliwatts\n",
    "distance = 1000  # in meters\n",
    "# protocol_efficiency = 0.8\n",
    "num_sensors = 10\n",
    "transmission_time = data_size/1000*1024 * 8 / (transmission_power * distance ** 2)\n",
    "energy_consumed = num_sensors * transmission_time * transmission_power / 1000   # in Joules\n",
    "\n",
    "# Convert Joules to kWh\n",
    "energy_consumed_kwh = energy_consumed / 3600000\n",
    "\n",
    "# Calculate the energy efficiency\n",
    "energy_efficiency = data_size/1000 * num_sensors / energy_consumed_kwh\n",
    "\n",
    "# Print the result\n",
    "print(\"Energy efficiency:\", energy_efficiency, \"bytes/kWh\")\n",
    "\n",
    "# Define the parameters\n",
    "data_size = 307080   # in bytes\n",
    "transmission_power = 20/1000000  # in milliwatts\n",
    "distance = 1000  # in meters\n",
    "protocol_efficiency = 0.9\n",
    "num_sensors = 10\n",
    "transmission_time = data_size/1000*1024 * 8 / (transmission_power * distance ** 2)\n",
    "energy_consumed = transmission_time * transmission_power / 1000  # in Joules\n",
    "\n",
    "# Convert Joules to kWh\n",
    "energy_consumed_kwh = energy_consumed / 3600000\n",
    "\n",
    "# Calculate the energy efficienc\n",
    "energy_efficiency = data_size/1000 * num_sensors / energy_consumed_kwh\n",
    "\n",
    "# Print the result\n",
    "print(\"Energy efficiency:\", energy_efficiency, \"bytes/kWh\")\n",
    "\n"
   ]
  },
  {
   "cell_type": "code",
   "execution_count": 86,
   "id": "aa775e5a",
   "metadata": {},
   "outputs": [
    {
     "name": "stdout",
     "output_type": "stream",
     "text": [
      "Energy efficiency: 3600000000000.001 bytes/kWh\n"
     ]
    }
   ],
   "source": [
    "# Define the parameters\n",
    "data_size = 8198416  # in bytes\n",
    "num_clients = 10\n",
    "num_rounds = 5\n",
    "transmission_power = 20  # in milliwatts\n",
    "distance = 100  # in meters\n",
    "protocol_efficiency = 0.8\n",
    "\n",
    "# Calculate the energy consumed by one client per round\n",
    "transmission_time = data_size * 8 / (transmission_power * distance ** 2)\n",
    "energy_per_client_per_round = transmission_time * transmission_power / 1000 / protocol_efficiency  # in Joules\n",
    "\n",
    "# Calculate the total energy consumed by all clients\n",
    "total_energy_consumed = energy_per_client_per_round * num_clients * num_rounds\n",
    "\n",
    "# Convert Joules to kWh\n",
    "total_energy_consumed_kwh = total_energy_consumed / 3600000\n",
    "\n",
    "# Calculate the energy efficiency\n",
    "data_transmitted = data_size * num_clients * num_rounds\n",
    "energy_efficiency = data_transmitted / total_energy_consumed_kwh\n",
    "\n",
    "# Print the result\n",
    "print(\"Energy efficiency:\", energy_efficiency, \"bytes/kWh\")\n"
   ]
  },
  {
   "cell_type": "code",
   "execution_count": null,
   "id": "6ef01426",
   "metadata": {},
   "outputs": [],
   "source": []
  }
 ],
 "metadata": {
  "kernelspec": {
   "display_name": "Python 3 (ipykernel)",
   "language": "python",
   "name": "python3"
  },
  "language_info": {
   "codemirror_mode": {
    "name": "ipython",
    "version": 3
   },
   "file_extension": ".py",
   "mimetype": "text/x-python",
   "name": "python",
   "nbconvert_exporter": "python",
   "pygments_lexer": "ipython3",
   "version": "3.10.9"
  }
 },
 "nbformat": 4,
 "nbformat_minor": 5
}
